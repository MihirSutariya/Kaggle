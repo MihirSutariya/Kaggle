{
 "cells": [
  {
   "cell_type": "code",
   "execution_count": 980,
   "metadata": {},
   "outputs": [
    {
     "data": {
      "text/html": [
       "<div>\n",
       "<style scoped>\n",
       "    .dataframe tbody tr th:only-of-type {\n",
       "        vertical-align: middle;\n",
       "    }\n",
       "\n",
       "    .dataframe tbody tr th {\n",
       "        vertical-align: top;\n",
       "    }\n",
       "\n",
       "    .dataframe thead th {\n",
       "        text-align: right;\n",
       "    }\n",
       "</style>\n",
       "<table border=\"1\" class=\"dataframe\">\n",
       "  <thead>\n",
       "    <tr style=\"text-align: right;\">\n",
       "      <th></th>\n",
       "      <th>PassengerId</th>\n",
       "      <th>Survived</th>\n",
       "      <th>Pclass</th>\n",
       "      <th>Name</th>\n",
       "      <th>Sex</th>\n",
       "      <th>Age</th>\n",
       "      <th>SibSp</th>\n",
       "      <th>Parch</th>\n",
       "      <th>Ticket</th>\n",
       "      <th>Fare</th>\n",
       "      <th>Cabin</th>\n",
       "      <th>Embarked</th>\n",
       "    </tr>\n",
       "  </thead>\n",
       "  <tbody>\n",
       "    <tr>\n",
       "      <th>0</th>\n",
       "      <td>1</td>\n",
       "      <td>0.0</td>\n",
       "      <td>3</td>\n",
       "      <td>Braund, Mr. Owen Harris</td>\n",
       "      <td>male</td>\n",
       "      <td>22.0</td>\n",
       "      <td>1</td>\n",
       "      <td>0</td>\n",
       "      <td>A/5 21171</td>\n",
       "      <td>7.2500</td>\n",
       "      <td>NaN</td>\n",
       "      <td>S</td>\n",
       "    </tr>\n",
       "    <tr>\n",
       "      <th>1</th>\n",
       "      <td>2</td>\n",
       "      <td>1.0</td>\n",
       "      <td>1</td>\n",
       "      <td>Cumings, Mrs. John Bradley (Florence Briggs Th...</td>\n",
       "      <td>female</td>\n",
       "      <td>38.0</td>\n",
       "      <td>1</td>\n",
       "      <td>0</td>\n",
       "      <td>PC 17599</td>\n",
       "      <td>71.2833</td>\n",
       "      <td>C85</td>\n",
       "      <td>C</td>\n",
       "    </tr>\n",
       "    <tr>\n",
       "      <th>2</th>\n",
       "      <td>3</td>\n",
       "      <td>1.0</td>\n",
       "      <td>3</td>\n",
       "      <td>Heikkinen, Miss. Laina</td>\n",
       "      <td>female</td>\n",
       "      <td>26.0</td>\n",
       "      <td>0</td>\n",
       "      <td>0</td>\n",
       "      <td>STON/O2. 3101282</td>\n",
       "      <td>7.9250</td>\n",
       "      <td>NaN</td>\n",
       "      <td>S</td>\n",
       "    </tr>\n",
       "    <tr>\n",
       "      <th>3</th>\n",
       "      <td>4</td>\n",
       "      <td>1.0</td>\n",
       "      <td>1</td>\n",
       "      <td>Futrelle, Mrs. Jacques Heath (Lily May Peel)</td>\n",
       "      <td>female</td>\n",
       "      <td>35.0</td>\n",
       "      <td>1</td>\n",
       "      <td>0</td>\n",
       "      <td>113803</td>\n",
       "      <td>53.1000</td>\n",
       "      <td>C123</td>\n",
       "      <td>S</td>\n",
       "    </tr>\n",
       "    <tr>\n",
       "      <th>4</th>\n",
       "      <td>5</td>\n",
       "      <td>0.0</td>\n",
       "      <td>3</td>\n",
       "      <td>Allen, Mr. William Henry</td>\n",
       "      <td>male</td>\n",
       "      <td>35.0</td>\n",
       "      <td>0</td>\n",
       "      <td>0</td>\n",
       "      <td>373450</td>\n",
       "      <td>8.0500</td>\n",
       "      <td>NaN</td>\n",
       "      <td>S</td>\n",
       "    </tr>\n",
       "  </tbody>\n",
       "</table>\n",
       "</div>"
      ],
      "text/plain": [
       "   PassengerId  Survived  Pclass  \\\n",
       "0            1       0.0       3   \n",
       "1            2       1.0       1   \n",
       "2            3       1.0       3   \n",
       "3            4       1.0       1   \n",
       "4            5       0.0       3   \n",
       "\n",
       "                                                Name     Sex   Age  SibSp  \\\n",
       "0                            Braund, Mr. Owen Harris    male  22.0      1   \n",
       "1  Cumings, Mrs. John Bradley (Florence Briggs Th...  female  38.0      1   \n",
       "2                             Heikkinen, Miss. Laina  female  26.0      0   \n",
       "3       Futrelle, Mrs. Jacques Heath (Lily May Peel)  female  35.0      1   \n",
       "4                           Allen, Mr. William Henry    male  35.0      0   \n",
       "\n",
       "   Parch            Ticket     Fare Cabin Embarked  \n",
       "0      0         A/5 21171   7.2500   NaN        S  \n",
       "1      0          PC 17599  71.2833   C85        C  \n",
       "2      0  STON/O2. 3101282   7.9250   NaN        S  \n",
       "3      0            113803  53.1000  C123        S  \n",
       "4      0            373450   8.0500   NaN        S  "
      ]
     },
     "execution_count": 980,
     "metadata": {},
     "output_type": "execute_result"
    }
   ],
   "source": [
    "import pandas as pd\n",
    "import seaborn as sns\n",
    "import numpy as np\n",
    "\n",
    "train_df = pd.read_csv('./data/train.csv')\n",
    "test_df = pd.read_csv('./data/test.csv')\n",
    "all_data = pd.concat([train_df,test_df],axis=0)\n",
    "all_data.head(5)"
   ]
  },
  {
   "cell_type": "code",
   "execution_count": 981,
   "metadata": {},
   "outputs": [
    {
     "name": "stdout",
     "output_type": "stream",
     "text": [
      "<class 'pandas.core.frame.DataFrame'>\n",
      "Index: 1309 entries, 0 to 417\n",
      "Data columns (total 12 columns):\n",
      " #   Column       Non-Null Count  Dtype  \n",
      "---  ------       --------------  -----  \n",
      " 0   PassengerId  1309 non-null   int64  \n",
      " 1   Survived     891 non-null    float64\n",
      " 2   Pclass       1309 non-null   int64  \n",
      " 3   Name         1309 non-null   object \n",
      " 4   Sex          1309 non-null   object \n",
      " 5   Age          1046 non-null   float64\n",
      " 6   SibSp        1309 non-null   int64  \n",
      " 7   Parch        1309 non-null   int64  \n",
      " 8   Ticket       1309 non-null   object \n",
      " 9   Fare         1308 non-null   float64\n",
      " 10  Cabin        295 non-null    object \n",
      " 11  Embarked     1307 non-null   object \n",
      "dtypes: float64(3), int64(4), object(5)\n",
      "memory usage: 132.9+ KB\n"
     ]
    }
   ],
   "source": [
    "all_data.info()"
   ]
  },
  {
   "cell_type": "code",
   "execution_count": 982,
   "metadata": {},
   "outputs": [
    {
     "name": "stdout",
     "output_type": "stream",
     "text": [
      "<class 'pandas.core.frame.DataFrame'>\n",
      "Index: 1309 entries, 0 to 417\n",
      "Data columns (total 10 columns):\n",
      " #   Column      Non-Null Count  Dtype  \n",
      "---  ------      --------------  -----  \n",
      " 0   Survived    891 non-null    float64\n",
      " 1   Pclass      1309 non-null   int64  \n",
      " 2   Name        1309 non-null   object \n",
      " 3   Sex         1309 non-null   object \n",
      " 4   Age         1309 non-null   float64\n",
      " 5   SibSp       1309 non-null   int64  \n",
      " 6   Parch       1309 non-null   int64  \n",
      " 7   Fare        1308 non-null   float64\n",
      " 8   Embarked    1309 non-null   object \n",
      " 9   FamilySize  1309 non-null   int64  \n",
      "dtypes: float64(3), int64(4), object(3)\n",
      "memory usage: 112.5+ KB\n"
     ]
    },
    {
     "name": "stderr",
     "output_type": "stream",
     "text": [
      "/var/folders/30/jds7lw5j3ws3x5fr0d9fzlbr0000gn/T/ipykernel_26219/1055609381.py:8: SettingWithCopyWarning: \n",
      "A value is trying to be set on a copy of a slice from a DataFrame\n",
      "\n",
      "See the caveats in the documentation: https://pandas.pydata.org/pandas-docs/stable/user_guide/indexing.html#returning-a-view-versus-a-copy\n",
      "  age_series[age_series.isnull()] = ranodm_val\n"
     ]
    }
   ],
   "source": [
    "all_data['FamilySize'] = all_data['Parch']+all_data['SibSp']+1\n",
    "all_data['Name'] = all_data['Name'].apply(lambda x: x.split(',')[1].split('.')[0])\n",
    "all_data.drop([ 'PassengerId','Ticket','Cabin'],axis=1,inplace=True)\n",
    "age_mean = all_data['Age'].mean()\n",
    "age_var = all_data['Age'].std()\n",
    "ranodm_val = np.random.normal(loc=age_mean,scale=age_var,size=all_data['Age'].isnull().sum())\n",
    "age_series = all_data['Age']\n",
    "age_series[age_series.isnull()] = ranodm_val\n",
    "all_data['Age'] = age_series\n",
    "mode_embarked = all_data['Embarked'].mode()[0]\n",
    "all_data['Embarked'].fillna(mode_embarked,inplace=True)\n",
    "all_data.info()"
   ]
  },
  {
   "cell_type": "code",
   "execution_count": 983,
   "metadata": {},
   "outputs": [
    {
     "data": {
      "text/plain": [
       "<Axes: xlabel='Embarked'>"
      ]
     },
     "execution_count": 983,
     "metadata": {},
     "output_type": "execute_result"
    },
    {
     "data": {
      "image/png": "[encoded data removed]",
      "text/plain": [
       "<Figure size 640x480 with 1 Axes>"
      ]
     },
     "metadata": {},
     "output_type": "display_data"
    }
   ],
   "source": [
    "Y = train_df['Survived']\n",
    "ntrain = train_df.shape[0]\n",
    "cnts = all_data[:ntrain].groupby('Embarked')['Survived'].apply(lambda x: (x == 1).sum() /len(x))\n",
    "sns.barplot(x = cnts.index, y = cnts.values)\n"
   ]
  },
  {
   "cell_type": "code",
   "execution_count": 984,
   "metadata": {},
   "outputs": [
    {
     "name": "stderr",
     "output_type": "stream",
     "text": [
      "/var/folders/30/jds7lw5j3ws3x5fr0d9fzlbr0000gn/T/ipykernel_26219/568864546.py:7: FutureWarning: The default of observed=False is deprecated and will be changed to True in a future version of pandas. Pass observed=False to retain current behavior or observed=True to adopt the future default and silence this warning.\n",
      "  cnts = jplot.groupby('AgeGroup')['Survived'].apply(lambda x: (x == 1).sum() /len(x))\n"
     ]
    },
    {
     "data": {
      "text/plain": [
       "<Axes: xlabel='AgeGroup'>"
      ]
     },
     "execution_count": 984,
     "metadata": {},
     "output_type": "execute_result"
    },
    {
     "data": {
      "image/png": "[encoded data removed]",
      "text/plain": [
       "<Figure size 640x480 with 1 Axes>"
      ]
     },
     "metadata": {},
     "output_type": "display_data"
    }
   ],
   "source": [
    "num_bins = 15\n",
    "jplot = pd.DataFrame()\n",
    "jplot['Survived'] = all_data[:ntrain]['Survived']\n",
    "jplot['AgeGroup'] = all_data[:ntrain]['Age']\n",
    "jplot['AgeGroup'] = pd.cut(jplot['AgeGroup'], bins=num_bins)\n",
    "\n",
    "cnts = jplot.groupby('AgeGroup')['Survived'].apply(lambda x: (x == 1).sum() /len(x))\n",
    "sns.barplot(x = cnts.index, y = cnts.values)\n",
    "\n",
    "\n",
    "# counts = jplot.groupby(['AgeGroup', 'Survived']).size().unstack(fill_value=0)\n",
    "# counts = counts.reset_index().melt(id_vars='AgeGroup', var_name='Survived', value_name='Count')\n",
    "# sns.barplot(data=counts, x='AgeGroup', y='Count', hue='Survived', palette='husl')\n"
   ]
  },
  {
   "cell_type": "code",
   "execution_count": 985,
   "metadata": {},
   "outputs": [],
   "source": [
    "all_data['Young'] = (all_data['Age']<10).astype(int)\n",
    "all_data['Alone'] = (all_data['FamilySize']==1).astype(int)\n",
    "# all_data.drop(all_data[all_data[:ntrain]['Age']>68].index,inplace=True)\n",
    "categories = ['Sex','Embarked','Pclass','Name','Parch','SibSp']\n",
    "\n",
    "dummy_df = pd.get_dummies(all_data[categories])\n",
    "\n",
    "# Concatenate the dummy variables with the original DataFrame\n",
    "all_data = pd.concat([all_data, dummy_df], axis=1)\n",
    "\n",
    "# Drop the original categorical column\n",
    "all_data.drop(categories+['Survived'], axis=1, inplace=True)"
   ]
  },
  {
   "cell_type": "code",
   "execution_count": 986,
   "metadata": {},
   "outputs": [],
   "source": [
    "# from sklearn.tree import DecisionTreeClassifier\n",
    "# from sklearn.model_selection import GridSearchCV\n",
    "# tree_classifier = DecisionTreeClassifier()\n",
    "\n",
    "# # Define the hyperparameters and values to explore\n",
    "# param_grid = {\n",
    "#     'criterion': ['gini', 'entropy'],\n",
    "#     'splitter': ['best', 'random'],\n",
    "#     'max_depth': [5],\n",
    "#     'min_samples_split': [2, 5, 10,100],\n",
    "#     'min_samples_leaf': [1, 2, 4]\n",
    "# }\n",
    "\n",
    "# # Perform Grid Search to find the best combination of hyperparameters\n",
    "# grid_search = GridSearchCV(tree_classifier, param_grid, cv=5, scoring='accuracy')\n",
    "# grid_search.fit(all_data[:ntrain], Y)\n",
    "\n",
    "# # Print the best hyperparameters and best score\n",
    "# print(\"Best Hyperparameters:\", grid_search.best_params_)\n",
    "# print(\"Best Score:\", grid_search.best_score_)"
   ]
  },
  {
   "cell_type": "code",
   "execution_count": 987,
   "metadata": {},
   "outputs": [],
   "source": [
    "import xgboost as xgb\n",
    "from sklearn.model_selection import train_test_split\n",
    "from sklearn.metrics import accuracy_score\n",
    "\n",
    "X_train, X_test, y_train, y_test = train_test_split(all_data[:ntrain], Y, test_size=0.1, random_state=42)\n",
    "model = xgb.XGBClassifier(\n",
    "    objective='binary:logistic',\n",
    "    eval_metric='logloss',\n",
    "    learning_rate=0.3,\n",
    "    n_estimators=200,\n",
    "    max_depth=50,\n",
    "    gamma=0,\n",
    "    random_state=42\n",
    ")\n",
    "\n",
    "model.fit(X_train, y_train)\n",
    "\n",
    "predictions = model.predict(all_data[ntrain:])\n",
    "\n",
    "result = pd.DataFrame()\n",
    "result['PassengerId'] = test_df['PassengerId']\n",
    "result['Survived'] = predictions\n",
    "result.to_csv('./data/result.csv',index=False)\n",
    "\n",
    "# accuracy = accuracy_score(y_test, predictions)\n",
    "# print(f\"Accuracy: {accuracy}\")"
   ]
  }
 ],
 "metadata": {
  "kernelspec": {
   "display_name": "Python 3",
   "language": "python",
   "name": "python3"
  },
  "language_info": {
   "codemirror_mode": {
    "name": "ipython",
    "version": 3
   },
   "file_extension": ".py",
   "mimetype": "text/x-python",
   "name": "python",
   "nbconvert_exporter": "python",
   "pygments_lexer": "ipython3",
   "version": "3.12.1"
  }
 },
 "nbformat": 4,
 "nbformat_minor": 2
}
