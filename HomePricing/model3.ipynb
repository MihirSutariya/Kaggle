{
 "cells": [
  {
   "cell_type": "code",
   "execution_count": 5,
   "metadata": {},
   "outputs": [
    {
     "data": {
      "text/plain": [
       "SalePrice        1.000000\n",
       "OverallQual      0.790982\n",
       "GrLivArea        0.708624\n",
       "GarageCars       0.640409\n",
       "GarageArea       0.623431\n",
       "TotalBsmtSF      0.613581\n",
       "1stFlrSF         0.605852\n",
       "FullBath         0.560664\n",
       "TotRmsAbvGrd     0.533723\n",
       "YearBuilt        0.522897\n",
       "YearRemodAdd     0.507101\n",
       "GarageYrBlt      0.486362\n",
       "MasVnrArea       0.477493\n",
       "Fireplaces       0.466929\n",
       "FireplaceQu      0.402854\n",
       "BsmtFinSF1       0.386420\n",
       "MasVnrType       0.379400\n",
       "LotFrontage      0.351799\n",
       "WoodDeckSF       0.324413\n",
       "2ndFlrSF         0.319334\n",
       "OpenPorchSF      0.315856\n",
       "HalfBath         0.284108\n",
       "LotShape         0.267759\n",
       "LotArea          0.263843\n",
       "GarageFinish     0.247470\n",
       "BsmtExposure     0.244946\n",
       "BsmtFullBath     0.227122\n",
       "BsmtUnfSF        0.214479\n",
       "BedroomAbvGr     0.168213\n",
       "RoofStyle        0.159332\n",
       "SaleCondition    0.142503\n",
       "ScreenPorch      0.111447\n",
       "LotConfig        0.109106\n",
       "PoolArea         0.092404\n",
       "LandContour      0.092009\n",
       "GarageQual       0.083479\n",
       "SaleType         0.072896\n",
       "BsmtQual         0.058965\n",
       "PoolQC           0.051364\n",
       "LandSlope        0.051152\n",
       "MoSold           0.046432\n",
       "3SsnPorch        0.044584\n",
       "GarageCond       0.041361\n",
       "RoofMatl         0.035820\n",
       "Condition2      -0.004833\n",
       "BsmtFinSF2      -0.011378\n",
       "Utilities       -0.014314\n",
       "BsmtHalfBath    -0.016844\n",
       "MiscVal         -0.021190\n",
       "BsmtCond        -0.021549\n",
       "dtype: float64"
      ]
     },
     "execution_count": 5,
     "metadata": {},
     "output_type": "execute_result"
    }
   ],
   "source": [
    "import pandas as pd\n",
    "\n",
    "train_df = pd.read_csv(\"./data/train.csv\")\n",
    "for column in train_df.columns:\n",
    "    if train_df[column].dtype=='object':\n",
    "        train_df[column],unique=pd.factorize(train_df[column])\n",
    "corelation=train_df.corrwith(train_df['SalePrice']).sort_values(ascending=False)\n",
    "corelation.head(50)\n"
   ]
  },
  {
   "cell_type": "code",
   "execution_count": null,
   "metadata": {},
   "outputs": [],
   "source": []
  }
 ],
 "metadata": {
  "kernelspec": {
   "display_name": "Python 3",
   "language": "python",
   "name": "python3"
  },
  "language_info": {
   "codemirror_mode": {
    "name": "ipython",
    "version": 3
   },
   "file_extension": ".py",
   "mimetype": "text/x-python",
   "name": "python",
   "nbconvert_exporter": "python",
   "pygments_lexer": "ipython3",
   "version": "3.12.1"
  }
 },
 "nbformat": 4,
 "nbformat_minor": 2
}
