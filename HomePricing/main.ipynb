{
 "cells": [
  {
   "cell_type": "code",
   "execution_count": 1,
   "metadata": {},
   "outputs": [],
   "source": [
    "import numpy as np\n",
    "import pandas as pd\n",
    "import os\n",
    "\n",
    "train_path = \"./data/train.csv\"\n",
    "test_path = \"./data/test.csv\"\n"
   ]
  },
  {
   "cell_type": "code",
   "execution_count": 2,
   "metadata": {},
   "outputs": [
    {
     "name": "stdout",
     "output_type": "stream",
     "text": [
      "<class 'pandas.core.frame.DataFrame'>\n",
      "RangeIndex: 1460 entries, 0 to 1459\n",
      "Data columns (total 81 columns):\n",
      " #   Column         Non-Null Count  Dtype  \n",
      "---  ------         --------------  -----  \n",
      " 0   Id             1460 non-null   int64  \n",
      " 1   MSSubClass     1460 non-null   int64  \n",
      " 2   MSZoning       1460 non-null   object \n",
      " 3   LotFrontage    1201 non-null   float64\n",
      " 4   LotArea        1460 non-null   int64  \n",
      " 5   Street         1460 non-null   object \n",
      " 6   Alley          91 non-null     object \n",
      " 7   LotShape       1460 non-null   object \n",
      " 8   LandContour    1460 non-null   object \n",
      " 9   Utilities      1460 non-null   object \n",
      " 10  LotConfig      1460 non-null   object \n",
      " 11  LandSlope      1460 non-null   object \n",
      " 12  Neighborhood   1460 non-null   object \n",
      " 13  Condition1     1460 non-null   object \n",
      " 14  Condition2     1460 non-null   object \n",
      " 15  BldgType       1460 non-null   object \n",
      " 16  HouseStyle     1460 non-null   object \n",
      " 17  OverallQual    1460 non-null   int64  \n",
      " 18  OverallCond    1460 non-null   int64  \n",
      " 19  YearBuilt      1460 non-null   int64  \n",
      " 20  YearRemodAdd   1460 non-null   int64  \n",
      " 21  RoofStyle      1460 non-null   object \n",
      " 22  RoofMatl       1460 non-null   object \n",
      " 23  Exterior1st    1460 non-null   object \n",
      " 24  Exterior2nd    1460 non-null   object \n",
      " 25  MasVnrType     588 non-null    object \n",
      " 26  MasVnrArea     1452 non-null   float64\n",
      " 27  ExterQual      1460 non-null   object \n",
      " 28  ExterCond      1460 non-null   object \n",
      " 29  Foundation     1460 non-null   object \n",
      " 30  BsmtQual       1423 non-null   object \n",
      " 31  BsmtCond       1423 non-null   object \n",
      " 32  BsmtExposure   1422 non-null   object \n",
      " 33  BsmtFinType1   1423 non-null   object \n",
      " 34  BsmtFinSF1     1460 non-null   int64  \n",
      " 35  BsmtFinType2   1422 non-null   object \n",
      " 36  BsmtFinSF2     1460 non-null   int64  \n",
      " 37  BsmtUnfSF      1460 non-null   int64  \n",
      " 38  TotalBsmtSF    1460 non-null   int64  \n",
      " 39  Heating        1460 non-null   object \n",
      " 40  HeatingQC      1460 non-null   object \n",
      " 41  CentralAir     1460 non-null   object \n",
      " 42  Electrical     1459 non-null   object \n",
      " 43  1stFlrSF       1460 non-null   int64  \n",
      " 44  2ndFlrSF       1460 non-null   int64  \n",
      " 45  LowQualFinSF   1460 non-null   int64  \n",
      " 46  GrLivArea      1460 non-null   int64  \n",
      " 47  BsmtFullBath   1460 non-null   int64  \n",
      " 48  BsmtHalfBath   1460 non-null   int64  \n",
      " 49  FullBath       1460 non-null   int64  \n",
      " 50  HalfBath       1460 non-null   int64  \n",
      " 51  BedroomAbvGr   1460 non-null   int64  \n",
      " 52  KitchenAbvGr   1460 non-null   int64  \n",
      " 53  KitchenQual    1460 non-null   object \n",
      " 54  TotRmsAbvGrd   1460 non-null   int64  \n",
      " 55  Functional     1460 non-null   object \n",
      " 56  Fireplaces     1460 non-null   int64  \n",
      " 57  FireplaceQu    770 non-null    object \n",
      " 58  GarageType     1379 non-null   object \n",
      " 59  GarageYrBlt    1379 non-null   float64\n",
      " 60  GarageFinish   1379 non-null   object \n",
      " 61  GarageCars     1460 non-null   int64  \n",
      " 62  GarageArea     1460 non-null   int64  \n",
      " 63  GarageQual     1379 non-null   object \n",
      " 64  GarageCond     1379 non-null   object \n",
      " 65  PavedDrive     1460 non-null   object \n",
      " 66  WoodDeckSF     1460 non-null   int64  \n",
      " 67  OpenPorchSF    1460 non-null   int64  \n",
      " 68  EnclosedPorch  1460 non-null   int64  \n",
      " 69  3SsnPorch      1460 non-null   int64  \n",
      " 70  ScreenPorch    1460 non-null   int64  \n",
      " 71  PoolArea       1460 non-null   int64  \n",
      " 72  PoolQC         7 non-null      object \n",
      " 73  Fence          281 non-null    object \n",
      " 74  MiscFeature    54 non-null     object \n",
      " 75  MiscVal        1460 non-null   int64  \n",
      " 76  MoSold         1460 non-null   int64  \n",
      " 77  YrSold         1460 non-null   int64  \n",
      " 78  SaleType       1460 non-null   object \n",
      " 79  SaleCondition  1460 non-null   object \n",
      " 80  SalePrice      1460 non-null   int64  \n",
      "dtypes: float64(3), int64(35), object(43)\n",
      "memory usage: 924.0+ KB\n"
     ]
    }
   ],
   "source": [
    "train_df = pd.read_csv(train_path)\n",
    "train_df.info()"
   ]
  },
  {
   "cell_type": "code",
   "execution_count": 3,
   "metadata": {},
   "outputs": [
    {
     "data": {
      "text/plain": [
       "count     1460\n",
       "unique       5\n",
       "top         RL\n",
       "freq      1151\n",
       "Name: MSZoning, dtype: object"
      ]
     },
     "execution_count": 3,
     "metadata": {},
     "output_type": "execute_result"
    }
   ],
   "source": [
    "train_df['MSZoning'].describe()"
   ]
  },
  {
   "cell_type": "code",
   "execution_count": 4,
   "metadata": {},
   "outputs": [],
   "source": [
    "non_numeric_columns = train_df.select_dtypes(exclude=['number']).columns.tolist()\n",
    "len(non_numeric_columns)\n",
    "factorized_mappings = {}\n",
    "# column_name : {'category': int}\n",
    "\n",
    "for column in train_df.columns:\n",
    "    if train_df[column].dtype == 'object':  \n",
    "        factorized_series, unique_values = pd.factorize(train_df[column], sort=True)\n",
    "        factorized_mappings[column] = dict(zip(unique_values, [i for i in range(len(unique_values))]))\n",
    "\n",
    "        train_df[column] = factorized_series\n",
    "\n"
   ]
  },
  {
   "cell_type": "code",
   "execution_count": 5,
   "metadata": {},
   "outputs": [],
   "source": [
    "from sklearn.model_selection import train_test_split\n",
    "from sklearn.ensemble import RandomForestRegressor\n",
    "from sklearn.metrics import mean_absolute_error\n",
    "\n"
   ]
  },
  {
   "cell_type": "code",
   "execution_count": 6,
   "metadata": {},
   "outputs": [
    {
     "name": "stdout",
     "output_type": "stream",
     "text": [
      "Mean Absolute Error 0.1: 22539.686804282035\n",
      "<class 'numpy.ndarray'>\n",
      "Mean Absolute Error of train: 16584.595774579248\n",
      "Mean Absolute Error 0.2: 23117.60444549306\n",
      "<class 'numpy.ndarray'>\n",
      "Mean Absolute Error of train: 13419.68948382821\n",
      "Mean Absolute Error 0.3: 20796.566117238253\n",
      "<class 'numpy.ndarray'>\n",
      "Mean Absolute Error of train: 13588.980895677274\n",
      "Mean Absolute Error 0.4: 20415.50643943631\n",
      "<class 'numpy.ndarray'>\n",
      "Mean Absolute Error of train: 12412.142022867323\n",
      "Mean Absolute Error 0.5: 18932.074865390547\n",
      "<class 'numpy.ndarray'>\n",
      "Mean Absolute Error of train: 12128.242485393339\n",
      "Mean Absolute Error 0.6: 18609.873137232247\n",
      "<class 'numpy.ndarray'>\n",
      "Mean Absolute Error of train: 11814.193077099377\n",
      "Mean Absolute Error 0.7: 17515.9164410658\n",
      "<class 'numpy.ndarray'>\n",
      "Mean Absolute Error of train: 11574.006423045148\n",
      "Mean Absolute Error 0.8: 17114.62148925275\n",
      "<class 'numpy.ndarray'>\n",
      "Mean Absolute Error of train: 11291.11077373982\n",
      "Mean Absolute Error 0.9: 17573.003728776577\n",
      "<class 'numpy.ndarray'>\n",
      "Mean Absolute Error of train: 11231.41760692995\n"
     ]
    }
   ],
   "source": [
    "train_df.fillna(-1,inplace=True)\n",
    "y = train_df['SalePrice']\n",
    "X = train_df.drop(['SalePrice','Id'],axis=1)\n",
    "\n",
    "X_train, X_val, y_train, y_val =  train_test_split(X,y,test_size=0.1,random_state=42)\n",
    "\n",
    "for i in range(1,10):\n",
    "    X_itrain, X_ival, y_itrain, y_ival =  train_test_split(X_train,y_train,test_size=(10-i)/10,random_state=42)\n",
    "\n",
    "    rf_regressor = RandomForestRegressor(   n_estimators=100,     # You can change the number of trees\n",
    "                                            max_depth=20,         # Adjust the maximum depth of trees\n",
    "                                            min_samples_leaf=5,   # Adjust the minimum samples per leaf\n",
    "                                            random_state=42\n",
    "                                        )\n",
    "    rf_regressor.fit(X_itrain, y_itrain)\n",
    "    predictions = rf_regressor.predict(X_val)\n",
    "    mse = mean_absolute_error(y_val, predictions)\n",
    "    print(f\"Mean Absolute Error {i/10}: {mse}\")\n",
    "    predictions = rf_regressor.predict(X_itrain)\n",
    "    mse = mean_absolute_error(y_itrain, predictions)\n",
    "    print(f\"Mean Absolute Error of train: {mse}\")\n"
   ]
  }
 ],
 "metadata": {
  "kernelspec": {
   "display_name": "Python 3",
   "language": "python",
   "name": "python3"
  },
  "language_info": {
   "codemirror_mode": {
    "name": "ipython",
    "version": 3
   },
   "file_extension": ".py",
   "mimetype": "text/x-python",
   "name": "python",
   "nbconvert_exporter": "python",
   "pygments_lexer": "ipython3",
   "version": "3.12.0"
  }
 },
 "nbformat": 4,
 "nbformat_minor": 2
}
